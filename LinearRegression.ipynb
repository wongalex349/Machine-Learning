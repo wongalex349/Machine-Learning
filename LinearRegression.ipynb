{
  "nbformat": 4,
  "nbformat_minor": 0,
  "metadata": {
    "colab": {
      "name": "Assignment 1.ipynb",
      "version": "0.3.2",
      "provenance": []
    },
    "language_info": {
      "codemirror_mode": {
        "name": "ipython",
        "version": 3
      },
      "file_extension": ".py",
      "mimetype": "text/x-python",
      "name": "python",
      "nbconvert_exporter": "python",
      "pygments_lexer": "ipython3",
      "version": "3.5.3"
    },
    "kernelspec": {
      "name": "python3",
      "display_name": "Python 3"
    },
    "accelerator": "GPU"
  },
  "cells": [
    {
      "cell_type": "markdown",
      "metadata": {
        "deletable": true,
        "editable": true,
        "id": "uhOiFUx5eF-u",
        "colab_type": "text"
      },
      "source": [
        "<h2>Assignment 1 - Part 1: Linear Regression on Boston Housing Data</h2>\n",
        "\n",
        "You're asked to do the following tasks to predict boston house price:\n",
        "<lu>\n",
        "<li>Use scikit-learn</li>\n",
        "<li>Implement analytical solution (normal equation) to obtain weights</li>\n",
        "<li>Implement numerical solution (gradient descent) to obtain weights</li>\n",
        "</lu>\n",
        "    Note: the accuracy of your implementations should be close to that of a linear model from scikit-learn\n",
        "\n",
        "In addition, you need to show the resulting intercept and coefficents, calculate errors on training dataset and testing dataset, and plot a figure to show your predictions and real prices on the testing dataset. "
      ]
    },
    {
      "cell_type": "code",
      "metadata": {
        "deletable": true,
        "editable": true,
        "id": "6sYSr7WeeF-x",
        "colab_type": "code",
        "colab": {}
      },
      "source": [
        "# The modules we're going to use\n",
        "from __future__ import print_function\n",
        "from sklearn import preprocessing\n",
        "from sklearn.model_selection import train_test_split\n",
        "from sklearn import datasets\n",
        "from sklearn import svm\n",
        "from sklearn import datasets, linear_model\n",
        "from scipy import linalg\n",
        "import sklearn\n",
        "import numpy as np\n",
        "import matplotlib.pyplot as plt\n",
        "import pandas as pd\n",
        "from matplotlib import rcParams\n",
        "\n",
        "\n",
        "# When you execute a code to plot with a simple SHIFT-ENTER, the plot will be shown directly under the code cell\n",
        "%matplotlib inline"
      ],
      "execution_count": 0,
      "outputs": []
    },
    {
      "cell_type": "code",
      "metadata": {
        "deletable": true,
        "editable": true,
        "id": "eX_igoKceF-6",
        "colab_type": "code",
        "colab": {}
      },
      "source": [
        "# Load data from scikit-learn, which returns (data, target)\n",
        "# note: if you call \"boston = load_boston()\", it returns a dictionary-like object\n",
        "data, target = datasets.load_boston(True)\n",
        "\n",
        "# Split the data into two parts: training data and testing data\n",
        "train_data,test_data,train_target,test_target = train_test_split(data,(target[:, np.newaxis]), test_size=0.2, random_state=42)"
      ],
      "execution_count": 0,
      "outputs": []
    },
    {
      "cell_type": "code",
      "metadata": {
        "id": "0LZm3F7f232e",
        "colab_type": "code",
        "colab": {
          "base_uri": "https://localhost:8080/",
          "height": 448
        },
        "outputId": "5f0d6031-260b-4793-81aa-0654d59f684c"
      },
      "source": [
        "# Task 1-1: use linear regression in sklearn\n",
        "from sklearn.linear_model import LinearRegression\n",
        "reg = linear_model.LinearRegression()\n",
        "reg = LinearRegression().fit(train_data,train_target)\n",
        "\n",
        "\n",
        "plt.xlabel(\"Actual Price\")\n",
        "plt.ylabel(\"Predicted Prices: \")\n",
        "plt.title(\"Actual Prices vs Predicted Prices:\")\n",
        "\n",
        "\n",
        "# Task 1-2: show intercept and coefficients\n",
        "\n",
        "print(\"Coefficient: \")\n",
        "print(reg.coef_)\n",
        "\n",
        "print(\"Intercept: \")\n",
        "print(reg.intercept_)\n",
        "\n",
        "X_pred = reg.predict(train_data)\n",
        "Y_pred = reg.predict(test_data)\n",
        "# Task 1-3: show errors on training dataset and testing dataset\n",
        "mse2 = sklearn.metrics.mean_squared_error(train_target, X_pred)\n",
        "mse = sklearn.metrics.mean_squared_error(test_target, Y_pred)\n",
        "print(\"Training Error is: \", mse2)\n",
        "print(\"Testing Error is: \", mse)\n",
        "\n",
        "# Task 1-4: show plot a figure to show your predictions and real prices on the testing dataset\n",
        "\n",
        "plt.scatter(test_target,Y_pred, color = 'red')\n",
        "plt.plot([0,50],[0,50],'--k')\n",
        "plt.show()\n"
      ],
      "execution_count": 923,
      "outputs": [
        {
          "output_type": "stream",
          "text": [
            "Coefficient: \n",
            "[[-1.13055924e-01  3.01104641e-02  4.03807204e-02  2.78443820e+00\n",
            "  -1.72026334e+01  4.43883520e+00 -6.29636221e-03 -1.44786537e+00\n",
            "   2.62429736e-01 -1.06467863e-02 -9.15456240e-01  1.23513347e-02\n",
            "  -5.08571424e-01]]\n",
            "Intercept: \n",
            "[30.24675099]\n",
            "Training Error is:  21.641412753226323\n",
            "Testing Error is:  24.291119474973616\n"
          ],
          "name": "stdout"
        },
        {
          "output_type": "display_data",
          "data": {
            "image/png": "[encoded data removed]",
            "text/plain": [
              "<Figure size 432x288 with 1 Axes>"
            ]
          },
          "metadata": {
            "tags": []
          }
        }
      ]
    },
    {
      "cell_type": "markdown",
      "metadata": {
        "deletable": true,
        "editable": true,
        "id": "T74z8fDqeF_D",
        "colab_type": "text"
      },
      "source": [
        "# <h4>Use scikit-learn library in the following cell</h4>"
      ]
    },
    {
      "cell_type": "code",
      "metadata": {
        "deletable": true,
        "editable": true,
        "id": "dczHG8gZeF_S",
        "colab_type": "code",
        "outputId": "424dd06a-459d-448b-8680-38b8ec370d18",
        "colab": {
          "base_uri": "https://localhost:8080/",
          "height": 601
        }
      },
      "source": [
        "# Task 2-1: Implement a function solving normal equation \n",
        "# Inputs: Training data and  training label\n",
        "# Output: Weights\n",
        "from numpy.linalg import inv\n",
        "\n",
        "def myNormalEqualFun(X,y):\n",
        "    return inv(X.T.dot(X)).dot(X.T).dot(y)\n",
        "    \n",
        "# Task 2-2: Implement a function performing prediction\n",
        "# Inputs: Testing data and weights\n",
        "# Output: Predictions\n",
        "def myPredictFun(X,w):\n",
        "    return X.dot(w)\n",
        "\n",
        "# Here we insert a column of 1s into training_data and test_data (to be consistent with our lecture slides)\n",
        "train_data_intercept = np.insert(train_data, 0, 1, axis=1)\n",
        "test_data_intercept = np.insert(test_data, 0, 1, axis=1)\n",
        "\n",
        "# Here we call myNormalEqual to train the model and get weights\n",
        "\n",
        "w = myNormalEqualFun(train_data_intercept,train_target)\n",
        "\n",
        "p = myPredictFun(train_data_intercept,w)\n",
        "a = myPredictFun(test_data_intercept,w)\n",
        "# Task 2-3: show intercept and coefficents\n",
        "\n",
        "print(\"Coefficient: \")\n",
        "for i in range(1,w.shape[0]) :\n",
        "   print(w[i])\n",
        "\n",
        "print(\"Intercept: \")\n",
        "print(w[0])\n",
        "\n",
        "# Task 2-4: show errors on training dataset and testing dataset\n",
        "\n",
        "\n",
        "mse =sklearn.metrics.mean_squared_error(test_target, a)\n",
        "\n",
        "mse2 =sklearn.metrics.mean_squared_error(train_target, p)\n",
        "print(\"Training Error is: \", mse2)\n",
        "print(\"Testing Error is: \", mse)\n",
        "\n",
        "\n",
        "# Task 2-5: show plot a figure to show your predictions and real prices on the testing dataset\n",
        "plt.scatter(test_target,a, color = 'red')\n",
        "plt.xlabel(\"Actual Price\")\n",
        "plt.ylabel(\"Predicted Prices: \")\n",
        "plt.title(\"Actual Prices vs Predicted Prices:\")\n",
        "\n",
        "\n",
        "\n",
        "plt.plot([0,50],[0,50],'--k')\n",
        "plt.show()\n"
      ],
      "execution_count": 924,
      "outputs": [
        {
          "output_type": "stream",
          "text": [
            "Coefficient: \n",
            "[-0.11305592]\n",
            "[0.03011046]\n",
            "[0.04038072]\n",
            "[2.7844382]\n",
            "[-17.20263339]\n",
            "[4.4388352]\n",
            "[-0.00629636]\n",
            "[-1.44786537]\n",
            "[0.26242974]\n",
            "[-0.01064679]\n",
            "[-0.91545624]\n",
            "[0.01235133]\n",
            "[-0.50857142]\n",
            "Intercept: \n",
            "[30.24675099]\n",
            "Training Error is:  21.641412753226312\n",
            "Testing Error is:  24.29111947497721\n"
          ],
          "name": "stdout"
        },
        {
          "output_type": "display_data",
          "data": {
            "image/png": "[encoded data removed]",
            "text/plain": [
              "<Figure size 432x288 with 1 Axes>"
            ]
          },
          "metadata": {
            "tags": []
          }
        }
      ]
    },
    {
      "cell_type": "markdown",
      "metadata": {
        "deletable": true,
        "editable": true,
        "id": "cshXRMOzeF_P",
        "colab_type": "text"
      },
      "source": [
        "<h4>Use analytical solution (normal equation) to perform linear regression in the following cell</h4>"
      ]
    },
    {
      "cell_type": "markdown",
      "metadata": {
        "deletable": true,
        "editable": true,
        "id": "Gt_FGR51eF_b",
        "colab_type": "text"
      },
      "source": [
        "<h4>Use numerical solution (gradient descent) to perform linear regression in the following cell</h4>"
      ]
    },
    {
      "cell_type": "code",
      "metadata": {
        "deletable": true,
        "editable": true,
        "id": "rluFBuZeeF_d",
        "colab_type": "code",
        "colab": {
          "base_uri": "https://localhost:8080/",
          "height": 601
        },
        "outputId": "456b06f3-64f1-484d-bdfd-ca0d46ef0857"
      },
      "source": [
        "# Feature scaling\n",
        "scaler = preprocessing.StandardScaler().fit(train_data)\n",
        "train_data = scaler.transform(train_data)\n",
        "test_data = scaler.transform(test_data)\n",
        "\n",
        "\n",
        "# Task 3-1: Implement a function performing gradient descent\n",
        "# Inputs: Training data, training label, leaerning rate, number of iterations\n",
        "# Output: Weights\n",
        "def myGradientDescentFun(X,y,learning_rate,numItrs):\n",
        "  weights = np.zeros((X.shape[1],1))\n",
        "  for i in range(0,numItrs) :\n",
        "     weights = weights + learning_rate*( 1/(X.shape[0]))*(X.T).dot(y - X.dot(weights))\n",
        "  return weights\n",
        "\n",
        "  \n",
        "# Task 3-2: Implement a function performing prediction\n",
        "# Inputs: Testing data and weights\n",
        "# Output: Predictions\n",
        "def myPredictFun(X,w):\n",
        "    return X.dot(w)\n",
        "\n",
        "  \n",
        "  \n",
        "# Here we insert a column of 1s into training_data and test_data (to be consistent with our lecture slides)\n",
        "train_data_intercept = np.insert(train_data, 0, 1, axis=1)\n",
        "test_data_intercept = np.insert(test_data, 0, 1, axis=1)\n",
        "\n",
        "\n",
        "\n",
        "# Here we call myGradientDescentFun to train the model and get weights\n",
        "# Note: you need to figure out good learning rate value and the number of iterations\n",
        "w = myGradientDescentFun(train_data_intercept,train_target,.02,1000)\n",
        "\n",
        "p = myPredictFun(train_data_intercept,w)\n",
        "a = myPredictFun(test_data_intercept,w)\n",
        "# Task 3-3: show intercept and coefficents\n",
        "\n",
        "print(\"Coefficient: \")\n",
        "for i in range(1,w.shape[0]) :\n",
        "   print(w[i])\n",
        "\n",
        "print(\"Intercept: \")\n",
        "print(w[0])\n",
        "\n",
        "\n",
        "# Task 3-4: show errors on training dataset and testing dataset\n",
        "mse =sklearn.metrics.mean_squared_error(test_target, a)\n",
        "mse2 =sklearn.metrics.mean_squared_error(train_target, p)\n",
        "print(\"Training Error is: \", mse2)\n",
        "print(\"Testing Error is: \", mse)\n",
        "\n",
        "\n",
        "# Task 3-5: show plot a figure to show your predictions and real prices on the testing dataset\n",
        "plt.scatter(test_target,a, color = 'red')\n",
        "plt.xlabel(\"Actual Price\")\n",
        "plt.ylabel(\"Predicted Prices: \")\n",
        "plt.title(\"Actual Prices vs Predicted Prices:\")\n",
        "\n",
        "\n",
        "\n",
        "plt.plot([0,50],[0,50],'--k')\n",
        "plt.show()\n"
      ],
      "execution_count": 925,
      "outputs": [
        {
          "output_type": "stream",
          "text": [
            "Coefficient: \n",
            "[-0.95149234]\n",
            "[0.58523707]\n",
            "[0.09510703]\n",
            "[0.7446168]\n",
            "[-1.92757318]\n",
            "[3.20140114]\n",
            "[-0.19328592]\n",
            "[-2.99250974]\n",
            "[1.70052117]\n",
            "[-1.17840886]\n",
            "[-2.00782786]\n",
            "[1.12896992]\n",
            "[-3.5896952]\n",
            "Intercept: \n",
            "[22.79653462]\n",
            "Training Error is:  21.68840454699446\n",
            "Testing Error is:  24.691181817294954\n"
          ],
          "name": "stdout"
        },
        {
          "output_type": "display_data",
          "data": {
            "image/png": "[encoded data removed]",
            "text/plain": [
              "<Figure size 432x288 with 1 Axes>"
            ]
          },
          "metadata": {
            "tags": []
          }
        }
      ]
    }
  ]
}