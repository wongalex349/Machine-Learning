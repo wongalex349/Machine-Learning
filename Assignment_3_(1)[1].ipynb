{
  "nbformat": 4,
  "nbformat_minor": 0,
  "metadata": {
    "colab": {
      "name": "Assignment 3.ipynb",
      "version": "0.3.2",
      "provenance": []
    },
    "kernelspec": {
      "name": "python3",
      "display_name": "Python 3"
    }
  },
  "cells": [
    {
      "cell_type": "code",
      "metadata": {
        "id": "FQFiLh9d-LHP",
        "colab_type": "code",
        "colab": {}
      },
      "source": [
        "#all of my imports\n",
        "import tensorflow as tf\n",
        "tf.keras.__version__\n",
        "import numpy as np\n",
        "import matplotlib.pyplot as plt\n",
        "import os, shutil\n",
        "import errno\n",
        "import cv2\n",
        "from tensorflow.keras.preprocessing.image import ImageDataGenerator"
      ],
      "execution_count": 0,
      "outputs": []
    },
    {
      "cell_type": "code",
      "metadata": {
        "id": "sD59X6cOj_qW",
        "colab_type": "code",
        "outputId": "4f302f88-a2d9-4517-aa40-2b558ba87f98",
        "colab": {
          "base_uri": "https://localhost:8080/",
          "height": 34
        }
      },
      "source": [
        "from google.colab import drive    #import google drive\n",
        "drive.mount(\"/content/drive\")"
      ],
      "execution_count": 38,
      "outputs": [
        {
          "output_type": "stream",
          "text": [
            "Drive already mounted at /content/drive; to attempt to forcibly remount, call drive.mount(\"/content/drive\", force_remount=True).\n"
          ],
          "name": "stdout"
        }
      ]
    },
    {
      "cell_type": "code",
      "metadata": {
        "id": "tUul86bOYZH_",
        "colab_type": "code",
        "colab": {}
      },
      "source": [
        "def mkdir_errfree(value):   #creates the classes\n",
        "  if not os.path.exists(value):\n",
        "    try:\n",
        "      os.makedirs(value)\n",
        "    except OSError as e:\n",
        "      if e.errno != errno.EEXIST:\n",
        "        raise"
      ],
      "execution_count": 0,
      "outputs": []
    },
    {
      "cell_type": "code",
      "metadata": {
        "id": "eolz7Ar3Rsf6",
        "colab_type": "code",
        "colab": {}
      },
      "source": [
        "DATADIR = '/content/drive/My Drive/Colab Notebooks/flower_photos/'\n",
        "base = '/content/drive/My Drive/Colab Notebooks/flowers/data'\n",
        "mkdir_errfree(base)\n",
        "CATEGORIES = ['daisy','dandelion','roses','sunflowers','tulips']\n",
        "\n"
      ],
      "execution_count": 0,
      "outputs": []
    },
    {
      "cell_type": "code",
      "metadata": {
        "id": "VFrEgxWx1rvi",
        "colab_type": "code",
        "colab": {}
      },
      "source": [
        "\n",
        "train_datagen = ImageDataGenerator(rescale = 1./255)   #rescales all images by 1./255\n",
        "\n",
        "\n",
        "val_datagen = ImageDataGenerator(rescale = 1./255)\n",
        "\n",
        "\n",
        "test_datagen = ImageDataGenerator(rescale = 1./255)\n",
        "\n",
        "\n",
        "train_dir = os.path.join(base, 'train') #creates the train directory\n",
        "mkdir_errfree(train_dir)\n",
        "validation_dir = os.path.join(base, 'validation') #creates the validation directory\n",
        "mkdir_errfree(validation_dir)\n",
        "test_dir = os.path.join(base, 'test') #creates the test directory\n",
        "mkdir_errfree(test_dir)\n",
        "\n",
        "train_dir_daisy = os.path.join(train_dir, 'daisy')   #creates the five classes of flower train_directory\n",
        "mkdir_errfree(train_dir_daisy)\n",
        "train_dir_dandelion = os.path.join(train_dir, 'dandelion')\n",
        "mkdir_errfree(train_dir_dandelion)\n",
        "train_dir_roses = os.path.join(train_dir, 'roses')\n",
        "mkdir_errfree(train_dir_roses)\n",
        "train_dir_sunflowers = os.path.join(train_dir, 'sunflowers')\n",
        "mkdir_errfree(train_dir_sunflowers)\n",
        "train_dir_tulips = os.path.join(train_dir, 'tulips')\n",
        "mkdir_errfree(train_dir_tulips)\n",
        "  \n",
        "validation_dir_daisy = os.path.join(validation_dir, 'daisy') #creates the five classes of flower validation_directory\n",
        "mkdir_errfree(validation_dir_daisy)\n",
        "validation_dir_dandelion = os.path.join(validation_dir, 'dandelion')\n",
        "mkdir_errfree(validation_dir_dandelion)\n",
        "validation_dir_roses = os.path.join(validation_dir, 'roses')\n",
        "mkdir_errfree(validation_dir_roses)\n",
        "validation_dir_sunflowers = os.path.join(validation_dir, 'sunflower')\n",
        "mkdir_errfree(validation_dir_sunflowers)\n",
        "validation_dir_tulips = os.path.join(validation_dir, 'tulips')\n",
        "mkdir_errfree(validation_dir_tulips)\n",
        "\n",
        "test_dir_daisy = os.path.join(test_dir, 'daisy')   #creates the five classes of flower test_directory\n",
        "mkdir_errfree(test_dir_daisy)\n",
        "test_dir_dandelion = os.path.join(test_dir, 'dandelion')\n",
        "mkdir_errfree(test_dir_dandelion)\n",
        "test_dir_roses = os.path.join(test_dir, 'roses')\n",
        "mkdir_errfree(test_dir_roses)\n",
        "test_dir_sunflowers = os.path.join(test_dir, 'sunflower')\n",
        "mkdir_errfree(test_dir_sunflowers)\n",
        "test_dir_tulips = os.path.join(test_dir, 'tulips')\n",
        "mkdir_errfree(test_dir_tulips)\n",
        "\n"
      ],
      "execution_count": 0,
      "outputs": []
    },
    {
      "cell_type": "code",
      "metadata": {
        "id": "ufMR8vMLDHEq",
        "colab_type": "code",
        "outputId": "99c74d12-fba0-4388-c3c3-c46252066dc0",
        "colab": {
          "base_uri": "https://localhost:8080/",
          "height": 119
        }
      },
      "source": [
        "test_flowers = 50\n",
        "val_flowers = 50\n",
        "\n",
        "for category in CATEGORIES:      #creates the source and destination\n",
        "    src = os.path.join(DATADIR,category)\n",
        "    current_test = 0   #test counter\n",
        "    current_val = 0    #validation counter\n",
        "    for img in (os.listdir(src)):  #copies files into train,validation, and test folders\n",
        "          path = os.path.join(src,img)\n",
        "          if current_test < test_flowers:\n",
        "            current_test +=1\n",
        "            dst = os.path.join(test_dir,img)\n",
        "          elif current_val < val_flowers:\n",
        "            current_val +=1\n",
        "            dst = os.path.join(validation_dir,img) \n",
        "          else:\n",
        "            os.path.join(src,img)\n",
        "            dst = os.path.join(train_dir,img)\n",
        "\n",
        "\n",
        "print(\"Train: \") #creates categorical train generator\n",
        "train_generator = train_datagen.flow_from_directory(train_dir, target_size = (150,150), batch_size = 20, class_mode = 'categorical')\n",
        "print(\"Validation: \") #creates categorical validation generator\n",
        "validation_generator = val_datagen.flow_from_directory(validation_dir, target_size = (150,150), batch_size = 20, class_mode = 'categorical')\n",
        "print(\"Test: \")   #creates categorical test generator\n",
        "test_generator = test_datagen.flow_from_directory(test_dir,target_size = (150,150), batch_size = 20, class_mode = 'categorical')"
      ],
      "execution_count": 42,
      "outputs": [
        {
          "output_type": "stream",
          "text": [
            "Train: \n",
            "Found 3170 images belonging to 5 classes.\n",
            "Validation: \n",
            "Found 250 images belonging to 5 classes.\n",
            "Test: \n",
            "Found 250 images belonging to 5 classes.\n"
          ],
          "name": "stdout"
        }
      ]
    },
    {
      "cell_type": "code",
      "metadata": {
        "id": "uKs7mxNk1-0Y",
        "colab_type": "code",
        "outputId": "f1ee9cf6-cf69-4e00-ef53-5b6ab1e1f788",
        "colab": {
          "base_uri": "https://localhost:8080/",
          "height": 527
        }
      },
      "source": [
        "from tensorflow.keras import layers\n",
        "from tensorflow.keras import models\n",
        "from tensorflow.keras import optimizers\n",
        "\n",
        "model = models.Sequential()  #creates the model and train it in a convolutional neural network\n",
        "model.add(layers.Conv2D(32,(3,3), activation = 'relu',input_shape = (150,150,3)))\n",
        "model.add(layers.MaxPooling2D((2,2)))\n",
        "model.add(layers.Conv2D(64,(3,3),activation = 'relu'))\n",
        "model.add(layers.MaxPooling2D((2,2)))\n",
        "model.add(layers.Conv2D(128,(3,3),activation = 'relu'))\n",
        "model.add(layers.MaxPooling2D((2,2)))\n",
        "model.add(layers.Conv2D(256,(3,3),activation = 'relu'))\n",
        "model.add(layers.MaxPooling2D((2,2)))\n",
        "model.add(layers.Flatten())\n",
        "model.add(layers.Dense(512,activation = 'relu'))\n",
        "model.add(layers.Dense(5,activation = 'softmax'))\n",
        "model.summary()\n"
      ],
      "execution_count": 43,
      "outputs": [
        {
          "output_type": "stream",
          "text": [
            "Model: \"sequential_2\"\n",
            "_________________________________________________________________\n",
            "Layer (type)                 Output Shape              Param #   \n",
            "=================================================================\n",
            "conv2d_8 (Conv2D)            (None, 148, 148, 32)      896       \n",
            "_________________________________________________________________\n",
            "max_pooling2d_8 (MaxPooling2 (None, 74, 74, 32)        0         \n",
            "_________________________________________________________________\n",
            "conv2d_9 (Conv2D)            (None, 72, 72, 64)        18496     \n",
            "_________________________________________________________________\n",
            "max_pooling2d_9 (MaxPooling2 (None, 36, 36, 64)        0         \n",
            "_________________________________________________________________\n",
            "conv2d_10 (Conv2D)           (None, 34, 34, 128)       73856     \n",
            "_________________________________________________________________\n",
            "max_pooling2d_10 (MaxPooling (None, 17, 17, 128)       0         \n",
            "_________________________________________________________________\n",
            "conv2d_11 (Conv2D)           (None, 15, 15, 256)       295168    \n",
            "_________________________________________________________________\n",
            "max_pooling2d_11 (MaxPooling (None, 7, 7, 256)         0         \n",
            "_________________________________________________________________\n",
            "flatten_2 (Flatten)          (None, 12544)             0         \n",
            "_________________________________________________________________\n",
            "dense_4 (Dense)              (None, 512)               6423040   \n",
            "_________________________________________________________________\n",
            "dense_5 (Dense)              (None, 5)                 2565      \n",
            "=================================================================\n",
            "Total params: 6,814,021\n",
            "Trainable params: 6,814,021\n",
            "Non-trainable params: 0\n",
            "_________________________________________________________________\n"
          ],
          "name": "stdout"
        }
      ]
    },
    {
      "cell_type": "code",
      "metadata": {
        "id": "ArowD4DXf6u6",
        "colab_type": "code",
        "colab": {
          "base_uri": "https://localhost:8080/",
          "height": 357
        },
        "outputId": "fb4cfce5-f5a5-41f2-b66d-e315be85cdef"
      },
      "source": [
        "\n",
        "model.compile(loss='categorical_crossentropy',  #compiling the model\n",
        "             optimizer='adam',\n",
        "             metrics=['accuracy'])\n",
        "history = model.fit_generator(train_generator,steps_per_epoch = 100, epochs = 10, validation_data = validation_generator, validation_steps = 50)\n",
        "#uses fit generator"
      ],
      "execution_count": 44,
      "outputs": [
        {
          "output_type": "stream",
          "text": [
            "Epoch 1/10\n",
            "100/100 [==============================] - 548s 5s/step - loss: 1.3137 - acc: 0.4271 - val_loss: 1.2234 - val_acc: 0.4454\n",
            "Epoch 2/10\n",
            "100/100 [==============================] - 279s 3s/step - loss: 1.0709 - acc: 0.5462 - val_loss: 0.9412 - val_acc: 0.6567\n",
            "Epoch 3/10\n",
            "100/100 [==============================] - 122s 1s/step - loss: 0.9371 - acc: 0.6405 - val_loss: 0.8822 - val_acc: 0.6216\n",
            "Epoch 4/10\n",
            "100/100 [==============================] - 122s 1s/step - loss: 0.8208 - acc: 0.6815 - val_loss: 0.8951 - val_acc: 0.6485\n",
            "Epoch 5/10\n",
            "100/100 [==============================] - 121s 1s/step - loss: 0.7721 - acc: 0.6995 - val_loss: 0.8190 - val_acc: 0.6825\n",
            "Epoch 6/10\n",
            "100/100 [==============================] - 122s 1s/step - loss: 0.7090 - acc: 0.7246 - val_loss: 0.8615 - val_acc: 0.6742\n",
            "Epoch 7/10\n",
            "100/100 [==============================] - 122s 1s/step - loss: 0.6656 - acc: 0.7332 - val_loss: 0.8200 - val_acc: 0.6938\n",
            "Epoch 8/10\n",
            "100/100 [==============================] - 123s 1s/step - loss: 0.6066 - acc: 0.7765 - val_loss: 0.7566 - val_acc: 0.7216\n",
            "Epoch 9/10\n",
            "100/100 [==============================] - 122s 1s/step - loss: 0.4779 - acc: 0.8145 - val_loss: 0.8311 - val_acc: 0.7351\n",
            "Epoch 10/10\n",
            "100/100 [==============================] - 121s 1s/step - loss: 0.4530 - acc: 0.8342 - val_loss: 1.0057 - val_acc: 0.6866\n"
          ],
          "name": "stdout"
        }
      ]
    },
    {
      "cell_type": "code",
      "metadata": {
        "id": "wPuYnaUrFNWs",
        "colab_type": "code",
        "colab": {
          "base_uri": "https://localhost:8080/",
          "height": 316
        },
        "outputId": "f5589235-825b-44b4-d22c-fb3a35fa284a"
      },
      "source": [
        "N = 10  #use matplotlib to plot acc, loss, val_loss, and val_acc\n",
        "plt.style.use(\"ggplot\")\n",
        "plt.figure()\n",
        "plt.plot(np.arange(0, N), history.history[\"loss\"], label=\"train_loss\")  #plots loss\n",
        "plt.plot(np.arange(0, N), history.history[\"val_loss\"], label=\"val_loss\") #plots val_loss\n",
        "plt.plot(np.arange(0, N), history.history[\"acc\"], label=\"train_acc\") #plots acc\n",
        "plt.plot(np.arange(0, N), history.history[\"val_acc\"], label=\"val_acc\") #plots val_acc\n",
        "plt.title(\"Training Loss and Accuracy on Dataset\")\n",
        "plt.xlabel(\"Epoch #\")\n",
        "plt.ylabel(\"Loss/Accuracy\")\n",
        "plt.legend(loc=\"lower left\") #creates the key"
      ],
      "execution_count": 45,
      "outputs": [
        {
          "output_type": "execute_result",
          "data": {
            "text/plain": [
              "<matplotlib.legend.Legend at 0x7fdb38c62d30>"
            ]
          },
          "metadata": {
            "tags": []
          },
          "execution_count": 45
        },
        {
          "output_type": "display_data",
          "data": {
            "image/png": "[encoded data removed]",
            "text/plain": [
              "<Figure size 432x288 with 1 Axes>"
            ]
          },
          "metadata": {
            "tags": []
          }
        }
      ]
    },
    {
      "cell_type": "code",
      "metadata": {
        "id": "vnkyzlSMQMUN",
        "colab_type": "code",
        "colab": {
          "base_uri": "https://localhost:8080/",
          "height": 833
        },
        "outputId": "0a3fd84e-2d67-48b3-f191-d63d029d45c0"
      },
      "source": [
        "from tensorflow.keras.applications import VGG16\n",
        "conv_base = VGG16(weights = 'imagenet', include_top=False, input_shape = (150,150,3))\n",
        "conv_base.summary()\n",
        "\n"
      ],
      "execution_count": 46,
      "outputs": [
        {
          "output_type": "stream",
          "text": [
            "Downloading data from https://github.com/fchollet/deep-learning-models/releases/download/v0.1/vgg16_weights_tf_dim_ordering_tf_kernels_notop.h5\n",
            "58892288/58889256 [==============================] - 2s 0us/step\n",
            "Model: \"vgg16\"\n",
            "_________________________________________________________________\n",
            "Layer (type)                 Output Shape              Param #   \n",
            "=================================================================\n",
            "input_1 (InputLayer)         [(None, 150, 150, 3)]     0         \n",
            "_________________________________________________________________\n",
            "block1_conv1 (Conv2D)        (None, 150, 150, 64)      1792      \n",
            "_________________________________________________________________\n",
            "block1_conv2 (Conv2D)        (None, 150, 150, 64)      36928     \n",
            "_________________________________________________________________\n",
            "block1_pool (MaxPooling2D)   (None, 75, 75, 64)        0         \n",
            "_________________________________________________________________\n",
            "block2_conv1 (Conv2D)        (None, 75, 75, 128)       73856     \n",
            "_________________________________________________________________\n",
            "block2_conv2 (Conv2D)        (None, 75, 75, 128)       147584    \n",
            "_________________________________________________________________\n",
            "block2_pool (MaxPooling2D)   (None, 37, 37, 128)       0         \n",
            "_________________________________________________________________\n",
            "block3_conv1 (Conv2D)        (None, 37, 37, 256)       295168    \n",
            "_________________________________________________________________\n",
            "block3_conv2 (Conv2D)        (None, 37, 37, 256)       590080    \n",
            "_________________________________________________________________\n",
            "block3_conv3 (Conv2D)        (None, 37, 37, 256)       590080    \n",
            "_________________________________________________________________\n",
            "block3_pool (MaxPooling2D)   (None, 18, 18, 256)       0         \n",
            "_________________________________________________________________\n",
            "block4_conv1 (Conv2D)        (None, 18, 18, 512)       1180160   \n",
            "_________________________________________________________________\n",
            "block4_conv2 (Conv2D)        (None, 18, 18, 512)       2359808   \n",
            "_________________________________________________________________\n",
            "block4_conv3 (Conv2D)        (None, 18, 18, 512)       2359808   \n",
            "_________________________________________________________________\n",
            "block4_pool (MaxPooling2D)   (None, 9, 9, 512)         0         \n",
            "_________________________________________________________________\n",
            "block5_conv1 (Conv2D)        (None, 9, 9, 512)         2359808   \n",
            "_________________________________________________________________\n",
            "block5_conv2 (Conv2D)        (None, 9, 9, 512)         2359808   \n",
            "_________________________________________________________________\n",
            "block5_conv3 (Conv2D)        (None, 9, 9, 512)         2359808   \n",
            "_________________________________________________________________\n",
            "block5_pool (MaxPooling2D)   (None, 4, 4, 512)         0         \n",
            "=================================================================\n",
            "Total params: 14,714,688\n",
            "Trainable params: 14,714,688\n",
            "Non-trainable params: 0\n",
            "_________________________________________________________________\n"
          ],
          "name": "stdout"
        }
      ]
    },
    {
      "cell_type": "code",
      "metadata": {
        "id": "Dfh1-j3BgHEk",
        "colab_type": "code",
        "colab": {
          "base_uri": "https://localhost:8080/",
          "height": 357
        },
        "outputId": "7ccc0b34-51cd-4e81-b183-a92f04ccc50a"
      },
      "source": [
        "conv_base.compile(loss='categorical_crossentropy',  #compiling the model\n",
        "             optimizer='adam',\n",
        "             metrics=['accuracy'])\n",
        "history = model.fit_generator(train_generator,steps_per_epoch = 100, epochs = 10, validation_data = validation_generator, validation_steps = 50)"
      ],
      "execution_count": 47,
      "outputs": [
        {
          "output_type": "stream",
          "text": [
            "Epoch 1/10\n",
            "100/100 [==============================] - 121s 1s/step - loss: 0.3542 - acc: 0.8683 - val_loss: 0.9575 - val_acc: 0.6990\n",
            "Epoch 2/10\n",
            "100/100 [==============================] - 121s 1s/step - loss: 0.2970 - acc: 0.8870 - val_loss: 1.0312 - val_acc: 0.7103\n",
            "Epoch 3/10\n",
            "100/100 [==============================] - 120s 1s/step - loss: 0.2490 - acc: 0.9155 - val_loss: 1.1842 - val_acc: 0.6804\n",
            "Epoch 4/10\n",
            "100/100 [==============================] - 120s 1s/step - loss: 0.1405 - acc: 0.9490 - val_loss: 1.5303 - val_acc: 0.6753\n",
            "Epoch 5/10\n",
            "100/100 [==============================] - 121s 1s/step - loss: 0.1831 - acc: 0.9395 - val_loss: 1.3072 - val_acc: 0.6701\n",
            "Epoch 6/10\n",
            "100/100 [==============================] - 120s 1s/step - loss: 0.1134 - acc: 0.9628 - val_loss: 1.3717 - val_acc: 0.7237\n",
            "Epoch 7/10\n",
            "100/100 [==============================] - 121s 1s/step - loss: 0.0754 - acc: 0.9710 - val_loss: 1.6125 - val_acc: 0.6918\n",
            "Epoch 8/10\n",
            "100/100 [==============================] - 121s 1s/step - loss: 0.1021 - acc: 0.9658 - val_loss: 1.8467 - val_acc: 0.6454\n",
            "Epoch 9/10\n",
            "100/100 [==============================] - 121s 1s/step - loss: 0.2006 - acc: 0.9367 - val_loss: 1.4391 - val_acc: 0.7144\n",
            "Epoch 10/10\n",
            "100/100 [==============================] - 122s 1s/step - loss: 0.0733 - acc: 0.9785 - val_loss: 1.6842 - val_acc: 0.6866\n"
          ],
          "name": "stdout"
        }
      ]
    },
    {
      "cell_type": "code",
      "metadata": {
        "id": "spQ7UmZSgH4m",
        "colab_type": "code",
        "colab": {
          "base_uri": "https://localhost:8080/",
          "height": 316
        },
        "outputId": "78d9e3de-44a3-40b2-e863-787c0af78902"
      },
      "source": [
        "N = 10\n",
        "plt.style.use(\"ggplot\")\n",
        "plt.figure()\n",
        "plt.plot(np.arange(0, N), history.history[\"loss\"], label=\"train_loss\")\n",
        "plt.plot(np.arange(0, N), history.history[\"val_loss\"], label=\"val_loss\")\n",
        "plt.plot(np.arange(0, N), history.history[\"acc\"], label=\"train_acc\")\n",
        "plt.plot(np.arange(0, N), history.history[\"val_acc\"], label=\"val_acc\")\n",
        "plt.title(\"Training Loss and Accuracy on Dataset\")\n",
        "plt.xlabel(\"Epoch #\")\n",
        "plt.ylabel(\"Loss/Accuracy\")\n",
        "plt.legend(loc=\"lower left\")"
      ],
      "execution_count": 48,
      "outputs": [
        {
          "output_type": "execute_result",
          "data": {
            "text/plain": [
              "<matplotlib.legend.Legend at 0x7fdb3f5f3470>"
            ]
          },
          "metadata": {
            "tags": []
          },
          "execution_count": 48
        },
        {
          "output_type": "display_data",
          "data": {
            "image/png": "[encoded data removed]",
            "text/plain": [
              "<Figure size 432x288 with 1 Axes>"
            ]
          },
          "metadata": {
            "tags": []
          }
        }
      ]
    },
    {
      "cell_type": "code",
      "metadata": {
        "id": "G0vaZvqlG0Cn",
        "colab_type": "code",
        "colab": {
          "base_uri": "https://localhost:8080/",
          "height": 374
        },
        "outputId": "df60b83f-4a85-4387-9271-43a4faddd062"
      },
      "source": [
        "train_datagen = ImageDataGenerator(rescale = 1./255,  #Task 4 Data Augmentation\n",
        "                                  width_shift_range=[-.1,.1],  #allow the training images to shift the range of its width\n",
        "                                  rotation_range=90,   #allows the images to adjust its rotations\n",
        "                                  height_shift_range=0.05,   #allows the images to adjust its height shift\n",
        "                                  horizontal_flip=True)    #allows the image to flip the image \n",
        "\n",
        "train_generator = train_datagen.flow_from_directory(train_dir, target_size = (150,150), batch_size = 20, class_mode = 'categorical')\n",
        "\n",
        "model.compile(loss='categorical_crossentropy',  #compiling the model\n",
        "             optimizer='adam',\n",
        "             metrics=['accuracy'])\n",
        "history = model.fit_generator(train_generator,steps_per_epoch = 100, epochs = 10, validation_data = validation_generator, validation_steps = 50)"
      ],
      "execution_count": 0,
      "outputs": [
        {
          "output_type": "stream",
          "text": [
            "Found 3170 images belonging to 5 classes.\n",
            "Epoch 1/10\n",
            "100/100 [==============================] - 130s 1s/step - loss: 0.9619 - acc: 0.6548 - val_loss: 0.7752 - val_acc: 0.7062\n",
            "Epoch 2/10\n",
            "100/100 [==============================] - 128s 1s/step - loss: 0.7836 - acc: 0.6890 - val_loss: 0.7978 - val_acc: 0.7144\n",
            "Epoch 3/10\n",
            "100/100 [==============================] - 128s 1s/step - loss: 0.7217 - acc: 0.7101 - val_loss: 0.8271 - val_acc: 0.7155\n",
            "Epoch 4/10\n",
            "100/100 [==============================] - 128s 1s/step - loss: 0.7258 - acc: 0.6995 - val_loss: 0.7489 - val_acc: 0.7320\n",
            "Epoch 5/10\n",
            "100/100 [==============================] - 128s 1s/step - loss: 0.7071 - acc: 0.7221 - val_loss: 0.7660 - val_acc: 0.7258\n",
            "Epoch 6/10\n",
            "100/100 [==============================] - 129s 1s/step - loss: 0.6803 - acc: 0.7372 - val_loss: 0.7359 - val_acc: 0.7041\n",
            "Epoch 7/10\n",
            "100/100 [==============================] - 129s 1s/step - loss: 0.6877 - acc: 0.7226 - val_loss: 0.7821 - val_acc: 0.7103\n",
            "Epoch 8/10\n",
            "100/100 [==============================] - 130s 1s/step - loss: 0.6297 - acc: 0.7485 - val_loss: 0.7124 - val_acc: 0.7433\n",
            "Epoch 9/10\n",
            "100/100 [==============================] - 129s 1s/step - loss: 0.6280 - acc: 0.7462 - val_loss: 0.8057 - val_acc: 0.6876\n",
            "Epoch 10/10\n",
            " 49/100 [=============>................] - ETA: 56s - loss: 0.6286 - acc: 0.7541"
          ],
          "name": "stdout"
        }
      ]
    }
  ]
}